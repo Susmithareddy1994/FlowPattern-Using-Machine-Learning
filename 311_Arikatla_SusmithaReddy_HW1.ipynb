{
  "nbformat": 4,
  "nbformat_minor": 0,
  "metadata": {
    "colab": {
      "name": "susmithareddy Arikatla_HW1.ipynb",
      "provenance": [],
      "collapsed_sections": []
    },
    "kernelspec": {
      "name": "python3",
      "display_name": "Python 3"
    },
    "language_info": {
      "name": "python"
    }
  },
  "cells": [
    {
      "cell_type": "code",
      "execution_count": 4,
      "metadata": {
        "id": "mD1WtKK_2F0M"
      },
      "outputs": [],
      "source": [
        "# Importing the Libraries\n",
        "import pandas as pd\n",
        "from sklearn.model_selection import train_test_split\n",
        "from sklearn.model_selection import cross_val_predict,cross_val_score\n",
        "from sklearn import metrics\n",
        "from sklearn.metrics import confusion_matrix,accuracy_score,classification_report\n",
        "import seaborn as sns\n",
        "import matplotlib.pyplot as plt\n",
        "from sklearn.linear_model import LogisticRegression\n",
        "from sklearn.neighbors import KNeighborsClassifier\n",
        "from sklearn.model_selection import GridSearchCV"
      ]
    },
    {
      "cell_type": "markdown",
      "source": [
        "Import Dataset"
      ],
      "metadata": {
        "id": "d8yNKxnjA0Mx"
      }
    },
    {
      "cell_type": "code",
      "source": [
        "# Load the Dataset in DataFrame using Pandas\n",
        "df = pd.read_csv(\"/content/BDOShoham.csv\")\n",
        "df"
      ],
      "metadata": {
        "colab": {
          "base_uri": "https://localhost:8080/",
          "height": 423
        },
        "id": "dvhT01w36ldn",
        "outputId": "ea3050a3-0f7a-4bc7-b277-4360f8f34849"
      },
      "execution_count": 5,
      "outputs": [
        {
          "output_type": "execute_result",
          "data": {
            "text/plain": [
              "      FlowPattern      Vsl      Vsg   VisL     VisG  DenL  DenG    ST   Ang  \\\n",
              "0               1  6.30000   0.0250  0.001  0.00002  1000   1.8  0.07   0.0   \n",
              "1               1  4.00000   0.0400  0.001  0.00002  1000   1.8  0.07   0.0   \n",
              "2               1  6.30000   0.0400  0.001  0.00002  1000   1.8  0.07   0.0   \n",
              "3               1  4.00000   0.0630  0.001  0.00002  1000   1.8  0.07   0.0   \n",
              "4               1  6.30000   0.0630  0.001  0.00002  1000   1.8  0.07   0.0   \n",
              "...           ...      ...      ...    ...      ...   ...   ...   ...   ...   \n",
              "5670            5  2.70096  15.8561  0.001  0.00002  1000   1.8  0.07 -80.0   \n",
              "5671            5  1.58784  15.8394  0.001  0.00002  1000   1.8  0.07 -80.0   \n",
              "5672            5  1.05338  16.0692  0.001  0.00002  1000   1.8  0.07 -80.0   \n",
              "5673            5  1.05397  25.7439  0.001  0.00002  1000   1.8  0.07 -80.0   \n",
              "5674            5  1.66789  26.1616  0.001  0.00002  1000   1.8  0.07 -80.0   \n",
              "\n",
              "         ID  \n",
              "0     0.051  \n",
              "1     0.051  \n",
              "2     0.051  \n",
              "3     0.051  \n",
              "4     0.051  \n",
              "...     ...  \n",
              "5670  0.025  \n",
              "5671  0.025  \n",
              "5672  0.025  \n",
              "5673  0.025  \n",
              "5674  0.025  \n",
              "\n",
              "[5675 rows x 10 columns]"
            ],
            "text/html": [
              "\n",
              "  <div id=\"df-c4001413-bee0-4a8a-9421-575a9303167d\">\n",
              "    <div class=\"colab-df-container\">\n",
              "      <div>\n",
              "<style scoped>\n",
              "    .dataframe tbody tr th:only-of-type {\n",
              "        vertical-align: middle;\n",
              "    }\n",
              "\n",
              "    .dataframe tbody tr th {\n",
              "        vertical-align: top;\n",
              "    }\n",
              "\n",
              "    .dataframe thead th {\n",
              "        text-align: right;\n",
              "    }\n",
              "</style>\n",
              "<table border=\"1\" class=\"dataframe\">\n",
              "  <thead>\n",
              "    <tr style=\"text-align: right;\">\n",
              "      <th></th>\n",
              "      <th>FlowPattern</th>\n",
              "      <th>Vsl</th>\n",
              "      <th>Vsg</th>\n",
              "      <th>VisL</th>\n",
              "      <th>VisG</th>\n",
              "      <th>DenL</th>\n",
              "      <th>DenG</th>\n",
              "      <th>ST</th>\n",
              "      <th>Ang</th>\n",
              "      <th>ID</th>\n",
              "    </tr>\n",
              "  </thead>\n",
              "  <tbody>\n",
              "    <tr>\n",
              "      <th>0</th>\n",
              "      <td>1</td>\n",
              "      <td>6.30000</td>\n",
              "      <td>0.0250</td>\n",
              "      <td>0.001</td>\n",
              "      <td>0.00002</td>\n",
              "      <td>1000</td>\n",
              "      <td>1.8</td>\n",
              "      <td>0.07</td>\n",
              "      <td>0.0</td>\n",
              "      <td>0.051</td>\n",
              "    </tr>\n",
              "    <tr>\n",
              "      <th>1</th>\n",
              "      <td>1</td>\n",
              "      <td>4.00000</td>\n",
              "      <td>0.0400</td>\n",
              "      <td>0.001</td>\n",
              "      <td>0.00002</td>\n",
              "      <td>1000</td>\n",
              "      <td>1.8</td>\n",
              "      <td>0.07</td>\n",
              "      <td>0.0</td>\n",
              "      <td>0.051</td>\n",
              "    </tr>\n",
              "    <tr>\n",
              "      <th>2</th>\n",
              "      <td>1</td>\n",
              "      <td>6.30000</td>\n",
              "      <td>0.0400</td>\n",
              "      <td>0.001</td>\n",
              "      <td>0.00002</td>\n",
              "      <td>1000</td>\n",
              "      <td>1.8</td>\n",
              "      <td>0.07</td>\n",
              "      <td>0.0</td>\n",
              "      <td>0.051</td>\n",
              "    </tr>\n",
              "    <tr>\n",
              "      <th>3</th>\n",
              "      <td>1</td>\n",
              "      <td>4.00000</td>\n",
              "      <td>0.0630</td>\n",
              "      <td>0.001</td>\n",
              "      <td>0.00002</td>\n",
              "      <td>1000</td>\n",
              "      <td>1.8</td>\n",
              "      <td>0.07</td>\n",
              "      <td>0.0</td>\n",
              "      <td>0.051</td>\n",
              "    </tr>\n",
              "    <tr>\n",
              "      <th>4</th>\n",
              "      <td>1</td>\n",
              "      <td>6.30000</td>\n",
              "      <td>0.0630</td>\n",
              "      <td>0.001</td>\n",
              "      <td>0.00002</td>\n",
              "      <td>1000</td>\n",
              "      <td>1.8</td>\n",
              "      <td>0.07</td>\n",
              "      <td>0.0</td>\n",
              "      <td>0.051</td>\n",
              "    </tr>\n",
              "    <tr>\n",
              "      <th>...</th>\n",
              "      <td>...</td>\n",
              "      <td>...</td>\n",
              "      <td>...</td>\n",
              "      <td>...</td>\n",
              "      <td>...</td>\n",
              "      <td>...</td>\n",
              "      <td>...</td>\n",
              "      <td>...</td>\n",
              "      <td>...</td>\n",
              "      <td>...</td>\n",
              "    </tr>\n",
              "    <tr>\n",
              "      <th>5670</th>\n",
              "      <td>5</td>\n",
              "      <td>2.70096</td>\n",
              "      <td>15.8561</td>\n",
              "      <td>0.001</td>\n",
              "      <td>0.00002</td>\n",
              "      <td>1000</td>\n",
              "      <td>1.8</td>\n",
              "      <td>0.07</td>\n",
              "      <td>-80.0</td>\n",
              "      <td>0.025</td>\n",
              "    </tr>\n",
              "    <tr>\n",
              "      <th>5671</th>\n",
              "      <td>5</td>\n",
              "      <td>1.58784</td>\n",
              "      <td>15.8394</td>\n",
              "      <td>0.001</td>\n",
              "      <td>0.00002</td>\n",
              "      <td>1000</td>\n",
              "      <td>1.8</td>\n",
              "      <td>0.07</td>\n",
              "      <td>-80.0</td>\n",
              "      <td>0.025</td>\n",
              "    </tr>\n",
              "    <tr>\n",
              "      <th>5672</th>\n",
              "      <td>5</td>\n",
              "      <td>1.05338</td>\n",
              "      <td>16.0692</td>\n",
              "      <td>0.001</td>\n",
              "      <td>0.00002</td>\n",
              "      <td>1000</td>\n",
              "      <td>1.8</td>\n",
              "      <td>0.07</td>\n",
              "      <td>-80.0</td>\n",
              "      <td>0.025</td>\n",
              "    </tr>\n",
              "    <tr>\n",
              "      <th>5673</th>\n",
              "      <td>5</td>\n",
              "      <td>1.05397</td>\n",
              "      <td>25.7439</td>\n",
              "      <td>0.001</td>\n",
              "      <td>0.00002</td>\n",
              "      <td>1000</td>\n",
              "      <td>1.8</td>\n",
              "      <td>0.07</td>\n",
              "      <td>-80.0</td>\n",
              "      <td>0.025</td>\n",
              "    </tr>\n",
              "    <tr>\n",
              "      <th>5674</th>\n",
              "      <td>5</td>\n",
              "      <td>1.66789</td>\n",
              "      <td>26.1616</td>\n",
              "      <td>0.001</td>\n",
              "      <td>0.00002</td>\n",
              "      <td>1000</td>\n",
              "      <td>1.8</td>\n",
              "      <td>0.07</td>\n",
              "      <td>-80.0</td>\n",
              "      <td>0.025</td>\n",
              "    </tr>\n",
              "  </tbody>\n",
              "</table>\n",
              "<p>5675 rows × 10 columns</p>\n",
              "</div>\n",
              "      <button class=\"colab-df-convert\" onclick=\"convertToInteractive('df-c4001413-bee0-4a8a-9421-575a9303167d')\"\n",
              "              title=\"Convert this dataframe to an interactive table.\"\n",
              "              style=\"display:none;\">\n",
              "        \n",
              "  <svg xmlns=\"http://www.w3.org/2000/svg\" height=\"24px\"viewBox=\"0 0 24 24\"\n",
              "       width=\"24px\">\n",
              "    <path d=\"M0 0h24v24H0V0z\" fill=\"none\"/>\n",
              "    <path d=\"M18.56 5.44l.94 2.06.94-2.06 2.06-.94-2.06-.94-.94-2.06-.94 2.06-2.06.94zm-11 1L8.5 8.5l.94-2.06 2.06-.94-2.06-.94L8.5 2.5l-.94 2.06-2.06.94zm10 10l.94 2.06.94-2.06 2.06-.94-2.06-.94-.94-2.06-.94 2.06-2.06.94z\"/><path d=\"M17.41 7.96l-1.37-1.37c-.4-.4-.92-.59-1.43-.59-.52 0-1.04.2-1.43.59L10.3 9.45l-7.72 7.72c-.78.78-.78 2.05 0 2.83L4 21.41c.39.39.9.59 1.41.59.51 0 1.02-.2 1.41-.59l7.78-7.78 2.81-2.81c.8-.78.8-2.07 0-2.86zM5.41 20L4 18.59l7.72-7.72 1.47 1.35L5.41 20z\"/>\n",
              "  </svg>\n",
              "      </button>\n",
              "      \n",
              "  <style>\n",
              "    .colab-df-container {\n",
              "      display:flex;\n",
              "      flex-wrap:wrap;\n",
              "      gap: 12px;\n",
              "    }\n",
              "\n",
              "    .colab-df-convert {\n",
              "      background-color: #E8F0FE;\n",
              "      border: none;\n",
              "      border-radius: 50%;\n",
              "      cursor: pointer;\n",
              "      display: none;\n",
              "      fill: #1967D2;\n",
              "      height: 32px;\n",
              "      padding: 0 0 0 0;\n",
              "      width: 32px;\n",
              "    }\n",
              "\n",
              "    .colab-df-convert:hover {\n",
              "      background-color: #E2EBFA;\n",
              "      box-shadow: 0px 1px 2px rgba(60, 64, 67, 0.3), 0px 1px 3px 1px rgba(60, 64, 67, 0.15);\n",
              "      fill: #174EA6;\n",
              "    }\n",
              "\n",
              "    [theme=dark] .colab-df-convert {\n",
              "      background-color: #3B4455;\n",
              "      fill: #D2E3FC;\n",
              "    }\n",
              "\n",
              "    [theme=dark] .colab-df-convert:hover {\n",
              "      background-color: #434B5C;\n",
              "      box-shadow: 0px 1px 3px 1px rgba(0, 0, 0, 0.15);\n",
              "      filter: drop-shadow(0px 1px 2px rgba(0, 0, 0, 0.3));\n",
              "      fill: #FFFFFF;\n",
              "    }\n",
              "  </style>\n",
              "\n",
              "      <script>\n",
              "        const buttonEl =\n",
              "          document.querySelector('#df-c4001413-bee0-4a8a-9421-575a9303167d button.colab-df-convert');\n",
              "        buttonEl.style.display =\n",
              "          google.colab.kernel.accessAllowed ? 'block' : 'none';\n",
              "\n",
              "        async function convertToInteractive(key) {\n",
              "          const element = document.querySelector('#df-c4001413-bee0-4a8a-9421-575a9303167d');\n",
              "          const dataTable =\n",
              "            await google.colab.kernel.invokeFunction('convertToInteractive',\n",
              "                                                     [key], {});\n",
              "          if (!dataTable) return;\n",
              "\n",
              "          const docLinkHtml = 'Like what you see? Visit the ' +\n",
              "            '<a target=\"_blank\" href=https://colab.research.google.com/notebooks/data_table.ipynb>data table notebook</a>'\n",
              "            + ' to learn more about interactive tables.';\n",
              "          element.innerHTML = '';\n",
              "          dataTable['output_type'] = 'display_data';\n",
              "          await google.colab.output.renderOutput(dataTable, element);\n",
              "          const docLink = document.createElement('div');\n",
              "          docLink.innerHTML = docLinkHtml;\n",
              "          element.appendChild(docLink);\n",
              "        }\n",
              "      </script>\n",
              "    </div>\n",
              "  </div>\n",
              "  "
            ]
          },
          "metadata": {},
          "execution_count": 5
        }
      ]
    },
    {
      "cell_type": "markdown",
      "source": [
        "Exploratory Data Analysis"
      ],
      "metadata": {
        "id": "jjU6OVRwA8VV"
      }
    },
    {
      "cell_type": "code",
      "source": [
        "#Statictical obseravtions\n",
        "df.describe()"
      ],
      "metadata": {
        "colab": {
          "base_uri": "https://localhost:8080/",
          "height": 344
        },
        "id": "Y7qpa8cw-sVQ",
        "outputId": "bad1c31f-b570-4eca-bfef-970ea379bf6d"
      },
      "execution_count": 6,
      "outputs": [
        {
          "output_type": "execute_result",
          "data": {
            "text/plain": [
              "       FlowPattern          Vsl          Vsg          VisL          VisG  \\\n",
              "count  5675.000000  5675.000000  5675.000000  5.675000e+03  5.675000e+03   \n",
              "mean      4.059912     0.899747     6.222612  1.000000e-03  2.000000e-05   \n",
              "std       1.379238     1.425159     8.699644  4.055273e-17  2.361736e-18   \n",
              "min       1.000000     0.001100     0.003720  1.000000e-03  2.000000e-05   \n",
              "25%       3.000000     0.016000     0.162055  1.000000e-03  2.000000e-05   \n",
              "50%       5.000000     0.250000     1.600000  1.000000e-03  2.000000e-05   \n",
              "75%       5.000000     1.500000    10.000000  1.000000e-03  2.000000e-05   \n",
              "max       7.000000    25.517000    42.956200  1.000000e-03  2.000000e-05   \n",
              "\n",
              "         DenL          DenG            ST          Ang           ID  \n",
              "count  5675.0  5.675000e+03  5.675000e+03  5675.000000  5675.000000  \n",
              "mean   1000.0  1.800000e+00  7.000000e-02     2.727401     0.038657  \n",
              "std       0.0  4.108187e-14  5.690394e-15    46.202822     0.012985  \n",
              "min    1000.0  1.800000e+00  7.000000e-02   -90.000000     0.025000  \n",
              "25%    1000.0  1.800000e+00  7.000000e-02   -10.000000     0.025000  \n",
              "50%    1000.0  1.800000e+00  7.000000e-02     0.500000     0.051000  \n",
              "75%    1000.0  1.800000e+00  7.000000e-02    20.000000     0.051000  \n",
              "max    1000.0  1.800000e+00  7.000000e-02    90.000000     0.051000  "
            ],
            "text/html": [
              "\n",
              "  <div id=\"df-74583fee-c2a8-4ce3-9d28-e47d5ad4cf00\">\n",
              "    <div class=\"colab-df-container\">\n",
              "      <div>\n",
              "<style scoped>\n",
              "    .dataframe tbody tr th:only-of-type {\n",
              "        vertical-align: middle;\n",
              "    }\n",
              "\n",
              "    .dataframe tbody tr th {\n",
              "        vertical-align: top;\n",
              "    }\n",
              "\n",
              "    .dataframe thead th {\n",
              "        text-align: right;\n",
              "    }\n",
              "</style>\n",
              "<table border=\"1\" class=\"dataframe\">\n",
              "  <thead>\n",
              "    <tr style=\"text-align: right;\">\n",
              "      <th></th>\n",
              "      <th>FlowPattern</th>\n",
              "      <th>Vsl</th>\n",
              "      <th>Vsg</th>\n",
              "      <th>VisL</th>\n",
              "      <th>VisG</th>\n",
              "      <th>DenL</th>\n",
              "      <th>DenG</th>\n",
              "      <th>ST</th>\n",
              "      <th>Ang</th>\n",
              "      <th>ID</th>\n",
              "    </tr>\n",
              "  </thead>\n",
              "  <tbody>\n",
              "    <tr>\n",
              "      <th>count</th>\n",
              "      <td>5675.000000</td>\n",
              "      <td>5675.000000</td>\n",
              "      <td>5675.000000</td>\n",
              "      <td>5.675000e+03</td>\n",
              "      <td>5.675000e+03</td>\n",
              "      <td>5675.0</td>\n",
              "      <td>5.675000e+03</td>\n",
              "      <td>5.675000e+03</td>\n",
              "      <td>5675.000000</td>\n",
              "      <td>5675.000000</td>\n",
              "    </tr>\n",
              "    <tr>\n",
              "      <th>mean</th>\n",
              "      <td>4.059912</td>\n",
              "      <td>0.899747</td>\n",
              "      <td>6.222612</td>\n",
              "      <td>1.000000e-03</td>\n",
              "      <td>2.000000e-05</td>\n",
              "      <td>1000.0</td>\n",
              "      <td>1.800000e+00</td>\n",
              "      <td>7.000000e-02</td>\n",
              "      <td>2.727401</td>\n",
              "      <td>0.038657</td>\n",
              "    </tr>\n",
              "    <tr>\n",
              "      <th>std</th>\n",
              "      <td>1.379238</td>\n",
              "      <td>1.425159</td>\n",
              "      <td>8.699644</td>\n",
              "      <td>4.055273e-17</td>\n",
              "      <td>2.361736e-18</td>\n",
              "      <td>0.0</td>\n",
              "      <td>4.108187e-14</td>\n",
              "      <td>5.690394e-15</td>\n",
              "      <td>46.202822</td>\n",
              "      <td>0.012985</td>\n",
              "    </tr>\n",
              "    <tr>\n",
              "      <th>min</th>\n",
              "      <td>1.000000</td>\n",
              "      <td>0.001100</td>\n",
              "      <td>0.003720</td>\n",
              "      <td>1.000000e-03</td>\n",
              "      <td>2.000000e-05</td>\n",
              "      <td>1000.0</td>\n",
              "      <td>1.800000e+00</td>\n",
              "      <td>7.000000e-02</td>\n",
              "      <td>-90.000000</td>\n",
              "      <td>0.025000</td>\n",
              "    </tr>\n",
              "    <tr>\n",
              "      <th>25%</th>\n",
              "      <td>3.000000</td>\n",
              "      <td>0.016000</td>\n",
              "      <td>0.162055</td>\n",
              "      <td>1.000000e-03</td>\n",
              "      <td>2.000000e-05</td>\n",
              "      <td>1000.0</td>\n",
              "      <td>1.800000e+00</td>\n",
              "      <td>7.000000e-02</td>\n",
              "      <td>-10.000000</td>\n",
              "      <td>0.025000</td>\n",
              "    </tr>\n",
              "    <tr>\n",
              "      <th>50%</th>\n",
              "      <td>5.000000</td>\n",
              "      <td>0.250000</td>\n",
              "      <td>1.600000</td>\n",
              "      <td>1.000000e-03</td>\n",
              "      <td>2.000000e-05</td>\n",
              "      <td>1000.0</td>\n",
              "      <td>1.800000e+00</td>\n",
              "      <td>7.000000e-02</td>\n",
              "      <td>0.500000</td>\n",
              "      <td>0.051000</td>\n",
              "    </tr>\n",
              "    <tr>\n",
              "      <th>75%</th>\n",
              "      <td>5.000000</td>\n",
              "      <td>1.500000</td>\n",
              "      <td>10.000000</td>\n",
              "      <td>1.000000e-03</td>\n",
              "      <td>2.000000e-05</td>\n",
              "      <td>1000.0</td>\n",
              "      <td>1.800000e+00</td>\n",
              "      <td>7.000000e-02</td>\n",
              "      <td>20.000000</td>\n",
              "      <td>0.051000</td>\n",
              "    </tr>\n",
              "    <tr>\n",
              "      <th>max</th>\n",
              "      <td>7.000000</td>\n",
              "      <td>25.517000</td>\n",
              "      <td>42.956200</td>\n",
              "      <td>1.000000e-03</td>\n",
              "      <td>2.000000e-05</td>\n",
              "      <td>1000.0</td>\n",
              "      <td>1.800000e+00</td>\n",
              "      <td>7.000000e-02</td>\n",
              "      <td>90.000000</td>\n",
              "      <td>0.051000</td>\n",
              "    </tr>\n",
              "  </tbody>\n",
              "</table>\n",
              "</div>\n",
              "      <button class=\"colab-df-convert\" onclick=\"convertToInteractive('df-74583fee-c2a8-4ce3-9d28-e47d5ad4cf00')\"\n",
              "              title=\"Convert this dataframe to an interactive table.\"\n",
              "              style=\"display:none;\">\n",
              "        \n",
              "  <svg xmlns=\"http://www.w3.org/2000/svg\" height=\"24px\"viewBox=\"0 0 24 24\"\n",
              "       width=\"24px\">\n",
              "    <path d=\"M0 0h24v24H0V0z\" fill=\"none\"/>\n",
              "    <path d=\"M18.56 5.44l.94 2.06.94-2.06 2.06-.94-2.06-.94-.94-2.06-.94 2.06-2.06.94zm-11 1L8.5 8.5l.94-2.06 2.06-.94-2.06-.94L8.5 2.5l-.94 2.06-2.06.94zm10 10l.94 2.06.94-2.06 2.06-.94-2.06-.94-.94-2.06-.94 2.06-2.06.94z\"/><path d=\"M17.41 7.96l-1.37-1.37c-.4-.4-.92-.59-1.43-.59-.52 0-1.04.2-1.43.59L10.3 9.45l-7.72 7.72c-.78.78-.78 2.05 0 2.83L4 21.41c.39.39.9.59 1.41.59.51 0 1.02-.2 1.41-.59l7.78-7.78 2.81-2.81c.8-.78.8-2.07 0-2.86zM5.41 20L4 18.59l7.72-7.72 1.47 1.35L5.41 20z\"/>\n",
              "  </svg>\n",
              "      </button>\n",
              "      \n",
              "  <style>\n",
              "    .colab-df-container {\n",
              "      display:flex;\n",
              "      flex-wrap:wrap;\n",
              "      gap: 12px;\n",
              "    }\n",
              "\n",
              "    .colab-df-convert {\n",
              "      background-color: #E8F0FE;\n",
              "      border: none;\n",
              "      border-radius: 50%;\n",
              "      cursor: pointer;\n",
              "      display: none;\n",
              "      fill: #1967D2;\n",
              "      height: 32px;\n",
              "      padding: 0 0 0 0;\n",
              "      width: 32px;\n",
              "    }\n",
              "\n",
              "    .colab-df-convert:hover {\n",
              "      background-color: #E2EBFA;\n",
              "      box-shadow: 0px 1px 2px rgba(60, 64, 67, 0.3), 0px 1px 3px 1px rgba(60, 64, 67, 0.15);\n",
              "      fill: #174EA6;\n",
              "    }\n",
              "\n",
              "    [theme=dark] .colab-df-convert {\n",
              "      background-color: #3B4455;\n",
              "      fill: #D2E3FC;\n",
              "    }\n",
              "\n",
              "    [theme=dark] .colab-df-convert:hover {\n",
              "      background-color: #434B5C;\n",
              "      box-shadow: 0px 1px 3px 1px rgba(0, 0, 0, 0.15);\n",
              "      filter: drop-shadow(0px 1px 2px rgba(0, 0, 0, 0.3));\n",
              "      fill: #FFFFFF;\n",
              "    }\n",
              "  </style>\n",
              "\n",
              "      <script>\n",
              "        const buttonEl =\n",
              "          document.querySelector('#df-74583fee-c2a8-4ce3-9d28-e47d5ad4cf00 button.colab-df-convert');\n",
              "        buttonEl.style.display =\n",
              "          google.colab.kernel.accessAllowed ? 'block' : 'none';\n",
              "\n",
              "        async function convertToInteractive(key) {\n",
              "          const element = document.querySelector('#df-74583fee-c2a8-4ce3-9d28-e47d5ad4cf00');\n",
              "          const dataTable =\n",
              "            await google.colab.kernel.invokeFunction('convertToInteractive',\n",
              "                                                     [key], {});\n",
              "          if (!dataTable) return;\n",
              "\n",
              "          const docLinkHtml = 'Like what you see? Visit the ' +\n",
              "            '<a target=\"_blank\" href=https://colab.research.google.com/notebooks/data_table.ipynb>data table notebook</a>'\n",
              "            + ' to learn more about interactive tables.';\n",
              "          element.innerHTML = '';\n",
              "          dataTable['output_type'] = 'display_data';\n",
              "          await google.colab.output.renderOutput(dataTable, element);\n",
              "          const docLink = document.createElement('div');\n",
              "          docLink.innerHTML = docLinkHtml;\n",
              "          element.appendChild(docLink);\n",
              "        }\n",
              "      </script>\n",
              "    </div>\n",
              "  </div>\n",
              "  "
            ]
          },
          "metadata": {},
          "execution_count": 6
        }
      ]
    },
    {
      "cell_type": "code",
      "source": [
        "# Finding the Null Values\n",
        "\n",
        "df.isnull().sum()"
      ],
      "metadata": {
        "colab": {
          "base_uri": "https://localhost:8080/"
        },
        "id": "ME0gZVSG-6SR",
        "outputId": "9ffa8196-11a3-44f2-d2ca-e7f0993f7544"
      },
      "execution_count": 7,
      "outputs": [
        {
          "output_type": "execute_result",
          "data": {
            "text/plain": [
              "FlowPattern    0\n",
              "Vsl            0\n",
              "Vsg            0\n",
              "VisL           0\n",
              "VisG           0\n",
              "DenL           0\n",
              "DenG           0\n",
              "ST             0\n",
              "Ang            0\n",
              "ID             0\n",
              "dtype: int64"
            ]
          },
          "metadata": {},
          "execution_count": 7
        }
      ]
    },
    {
      "cell_type": "code",
      "source": [
        "# Finding the Target values\n",
        "df[\"FlowPattern\"].value_counts()\n"
      ],
      "metadata": {
        "colab": {
          "base_uri": "https://localhost:8080/"
        },
        "id": "CzZPju1Z7J4M",
        "outputId": "468066a8-55dd-44f3-a514-ff52c6f9d9ea"
      },
      "execution_count": 8,
      "outputs": [
        {
          "output_type": "execute_result",
          "data": {
            "text/plain": [
              "5    2905\n",
              "4    1033\n",
              "3     878\n",
              "1     594\n",
              "2     140\n",
              "7     125\n",
              "Name: FlowPattern, dtype: int64"
            ]
          },
          "metadata": {},
          "execution_count": 8
        }
      ]
    },
    {
      "cell_type": "code",
      "source": [
        "# Displaying the Columns in the Dataset\n",
        "df.columns"
      ],
      "metadata": {
        "colab": {
          "base_uri": "https://localhost:8080/"
        },
        "id": "Zl_cHhTe8QSa",
        "outputId": "56caacfd-9e5e-4374-e48e-08488c709147"
      },
      "execution_count": 9,
      "outputs": [
        {
          "output_type": "execute_result",
          "data": {
            "text/plain": [
              "Index(['FlowPattern', 'Vsl', 'Vsg', 'VisL', 'VisG', 'DenL', 'DenG', 'ST',\n",
              "       'Ang', 'ID'],\n",
              "      dtype='object')"
            ]
          },
          "metadata": {},
          "execution_count": 9
        }
      ]
    },
    {
      "cell_type": "code",
      "source": [
        "#Dropping the Traget columnand unwanted columns and storing the remaining columns in X variable\n",
        "X = df.drop([\"FlowPattern\",\"VisL\",\"VisG\",\"DenL\",\"DenG\",\"ST\",\"ID\"],axis = 1)\n",
        "X"
      ],
      "metadata": {
        "colab": {
          "base_uri": "https://localhost:8080/",
          "height": 423
        },
        "id": "OoR3f9iE7tHo",
        "outputId": "d325d8c7-15f5-47e0-d2d4-a953ec39e9a1"
      },
      "execution_count": 10,
      "outputs": [
        {
          "output_type": "execute_result",
          "data": {
            "text/plain": [
              "          Vsl      Vsg   Ang\n",
              "0     6.30000   0.0250   0.0\n",
              "1     4.00000   0.0400   0.0\n",
              "2     6.30000   0.0400   0.0\n",
              "3     4.00000   0.0630   0.0\n",
              "4     6.30000   0.0630   0.0\n",
              "...       ...      ...   ...\n",
              "5670  2.70096  15.8561 -80.0\n",
              "5671  1.58784  15.8394 -80.0\n",
              "5672  1.05338  16.0692 -80.0\n",
              "5673  1.05397  25.7439 -80.0\n",
              "5674  1.66789  26.1616 -80.0\n",
              "\n",
              "[5675 rows x 3 columns]"
            ],
            "text/html": [
              "\n",
              "  <div id=\"df-5f8e42e3-a0b5-4fd4-9c71-8fdaba9ac5d8\">\n",
              "    <div class=\"colab-df-container\">\n",
              "      <div>\n",
              "<style scoped>\n",
              "    .dataframe tbody tr th:only-of-type {\n",
              "        vertical-align: middle;\n",
              "    }\n",
              "\n",
              "    .dataframe tbody tr th {\n",
              "        vertical-align: top;\n",
              "    }\n",
              "\n",
              "    .dataframe thead th {\n",
              "        text-align: right;\n",
              "    }\n",
              "</style>\n",
              "<table border=\"1\" class=\"dataframe\">\n",
              "  <thead>\n",
              "    <tr style=\"text-align: right;\">\n",
              "      <th></th>\n",
              "      <th>Vsl</th>\n",
              "      <th>Vsg</th>\n",
              "      <th>Ang</th>\n",
              "    </tr>\n",
              "  </thead>\n",
              "  <tbody>\n",
              "    <tr>\n",
              "      <th>0</th>\n",
              "      <td>6.30000</td>\n",
              "      <td>0.0250</td>\n",
              "      <td>0.0</td>\n",
              "    </tr>\n",
              "    <tr>\n",
              "      <th>1</th>\n",
              "      <td>4.00000</td>\n",
              "      <td>0.0400</td>\n",
              "      <td>0.0</td>\n",
              "    </tr>\n",
              "    <tr>\n",
              "      <th>2</th>\n",
              "      <td>6.30000</td>\n",
              "      <td>0.0400</td>\n",
              "      <td>0.0</td>\n",
              "    </tr>\n",
              "    <tr>\n",
              "      <th>3</th>\n",
              "      <td>4.00000</td>\n",
              "      <td>0.0630</td>\n",
              "      <td>0.0</td>\n",
              "    </tr>\n",
              "    <tr>\n",
              "      <th>4</th>\n",
              "      <td>6.30000</td>\n",
              "      <td>0.0630</td>\n",
              "      <td>0.0</td>\n",
              "    </tr>\n",
              "    <tr>\n",
              "      <th>...</th>\n",
              "      <td>...</td>\n",
              "      <td>...</td>\n",
              "      <td>...</td>\n",
              "    </tr>\n",
              "    <tr>\n",
              "      <th>5670</th>\n",
              "      <td>2.70096</td>\n",
              "      <td>15.8561</td>\n",
              "      <td>-80.0</td>\n",
              "    </tr>\n",
              "    <tr>\n",
              "      <th>5671</th>\n",
              "      <td>1.58784</td>\n",
              "      <td>15.8394</td>\n",
              "      <td>-80.0</td>\n",
              "    </tr>\n",
              "    <tr>\n",
              "      <th>5672</th>\n",
              "      <td>1.05338</td>\n",
              "      <td>16.0692</td>\n",
              "      <td>-80.0</td>\n",
              "    </tr>\n",
              "    <tr>\n",
              "      <th>5673</th>\n",
              "      <td>1.05397</td>\n",
              "      <td>25.7439</td>\n",
              "      <td>-80.0</td>\n",
              "    </tr>\n",
              "    <tr>\n",
              "      <th>5674</th>\n",
              "      <td>1.66789</td>\n",
              "      <td>26.1616</td>\n",
              "      <td>-80.0</td>\n",
              "    </tr>\n",
              "  </tbody>\n",
              "</table>\n",
              "<p>5675 rows × 3 columns</p>\n",
              "</div>\n",
              "      <button class=\"colab-df-convert\" onclick=\"convertToInteractive('df-5f8e42e3-a0b5-4fd4-9c71-8fdaba9ac5d8')\"\n",
              "              title=\"Convert this dataframe to an interactive table.\"\n",
              "              style=\"display:none;\">\n",
              "        \n",
              "  <svg xmlns=\"http://www.w3.org/2000/svg\" height=\"24px\"viewBox=\"0 0 24 24\"\n",
              "       width=\"24px\">\n",
              "    <path d=\"M0 0h24v24H0V0z\" fill=\"none\"/>\n",
              "    <path d=\"M18.56 5.44l.94 2.06.94-2.06 2.06-.94-2.06-.94-.94-2.06-.94 2.06-2.06.94zm-11 1L8.5 8.5l.94-2.06 2.06-.94-2.06-.94L8.5 2.5l-.94 2.06-2.06.94zm10 10l.94 2.06.94-2.06 2.06-.94-2.06-.94-.94-2.06-.94 2.06-2.06.94z\"/><path d=\"M17.41 7.96l-1.37-1.37c-.4-.4-.92-.59-1.43-.59-.52 0-1.04.2-1.43.59L10.3 9.45l-7.72 7.72c-.78.78-.78 2.05 0 2.83L4 21.41c.39.39.9.59 1.41.59.51 0 1.02-.2 1.41-.59l7.78-7.78 2.81-2.81c.8-.78.8-2.07 0-2.86zM5.41 20L4 18.59l7.72-7.72 1.47 1.35L5.41 20z\"/>\n",
              "  </svg>\n",
              "      </button>\n",
              "      \n",
              "  <style>\n",
              "    .colab-df-container {\n",
              "      display:flex;\n",
              "      flex-wrap:wrap;\n",
              "      gap: 12px;\n",
              "    }\n",
              "\n",
              "    .colab-df-convert {\n",
              "      background-color: #E8F0FE;\n",
              "      border: none;\n",
              "      border-radius: 50%;\n",
              "      cursor: pointer;\n",
              "      display: none;\n",
              "      fill: #1967D2;\n",
              "      height: 32px;\n",
              "      padding: 0 0 0 0;\n",
              "      width: 32px;\n",
              "    }\n",
              "\n",
              "    .colab-df-convert:hover {\n",
              "      background-color: #E2EBFA;\n",
              "      box-shadow: 0px 1px 2px rgba(60, 64, 67, 0.3), 0px 1px 3px 1px rgba(60, 64, 67, 0.15);\n",
              "      fill: #174EA6;\n",
              "    }\n",
              "\n",
              "    [theme=dark] .colab-df-convert {\n",
              "      background-color: #3B4455;\n",
              "      fill: #D2E3FC;\n",
              "    }\n",
              "\n",
              "    [theme=dark] .colab-df-convert:hover {\n",
              "      background-color: #434B5C;\n",
              "      box-shadow: 0px 1px 3px 1px rgba(0, 0, 0, 0.15);\n",
              "      filter: drop-shadow(0px 1px 2px rgba(0, 0, 0, 0.3));\n",
              "      fill: #FFFFFF;\n",
              "    }\n",
              "  </style>\n",
              "\n",
              "      <script>\n",
              "        const buttonEl =\n",
              "          document.querySelector('#df-5f8e42e3-a0b5-4fd4-9c71-8fdaba9ac5d8 button.colab-df-convert');\n",
              "        buttonEl.style.display =\n",
              "          google.colab.kernel.accessAllowed ? 'block' : 'none';\n",
              "\n",
              "        async function convertToInteractive(key) {\n",
              "          const element = document.querySelector('#df-5f8e42e3-a0b5-4fd4-9c71-8fdaba9ac5d8');\n",
              "          const dataTable =\n",
              "            await google.colab.kernel.invokeFunction('convertToInteractive',\n",
              "                                                     [key], {});\n",
              "          if (!dataTable) return;\n",
              "\n",
              "          const docLinkHtml = 'Like what you see? Visit the ' +\n",
              "            '<a target=\"_blank\" href=https://colab.research.google.com/notebooks/data_table.ipynb>data table notebook</a>'\n",
              "            + ' to learn more about interactive tables.';\n",
              "          element.innerHTML = '';\n",
              "          dataTable['output_type'] = 'display_data';\n",
              "          await google.colab.output.renderOutput(dataTable, element);\n",
              "          const docLink = document.createElement('div');\n",
              "          docLink.innerHTML = docLinkHtml;\n",
              "          element.appendChild(docLink);\n",
              "        }\n",
              "      </script>\n",
              "    </div>\n",
              "  </div>\n",
              "  "
            ]
          },
          "metadata": {},
          "execution_count": 10
        }
      ]
    },
    {
      "cell_type": "code",
      "source": [
        "# Storing the Traget the value in Y-variable\n",
        "y = df[\"FlowPattern\"]\n",
        "y"
      ],
      "metadata": {
        "colab": {
          "base_uri": "https://localhost:8080/"
        },
        "id": "L0469yaQ8qz-",
        "outputId": "625af58e-3bbb-4d6f-d8a1-6ab477f76cdb"
      },
      "execution_count": 11,
      "outputs": [
        {
          "output_type": "execute_result",
          "data": {
            "text/plain": [
              "0       1\n",
              "1       1\n",
              "2       1\n",
              "3       1\n",
              "4       1\n",
              "       ..\n",
              "5670    5\n",
              "5671    5\n",
              "5672    5\n",
              "5673    5\n",
              "5674    5\n",
              "Name: FlowPattern, Length: 5675, dtype: int64"
            ]
          },
          "metadata": {},
          "execution_count": 11
        }
      ]
    },
    {
      "cell_type": "code",
      "source": [
        "sns.countplot(df[\"FlowPattern\"])"
      ],
      "metadata": {
        "colab": {
          "base_uri": "https://localhost:8080/",
          "height": 354
        },
        "id": "4FqMpMqCBbdw",
        "outputId": "4ab0eb3d-ee0d-4f83-954e-817cf51ef4c3"
      },
      "execution_count": 12,
      "outputs": [
        {
          "output_type": "stream",
          "name": "stderr",
          "text": [
            "/usr/local/lib/python3.7/dist-packages/seaborn/_decorators.py:43: FutureWarning: Pass the following variable as a keyword arg: x. From version 0.12, the only valid positional argument will be `data`, and passing other arguments without an explicit keyword will result in an error or misinterpretation.\n",
            "  FutureWarning\n"
          ]
        },
        {
          "output_type": "execute_result",
          "data": {
            "text/plain": [
              "<matplotlib.axes._subplots.AxesSubplot at 0x7f5e0501b110>"
            ]
          },
          "metadata": {},
          "execution_count": 12
        },
        {
          "output_type": "display_data",
          "data": {
            "text/plain": [
              "<Figure size 432x288 with 1 Axes>"
            ],
            "image/png": "[encoded data removed]"
          },
          "metadata": {
            "needs_background": "light"
          }
        }
      ]
    },
    {
      "cell_type": "markdown",
      "source": [
        "Validation"
      ],
      "metadata": {
        "id": "KkVNo9o8AFNx"
      }
    },
    {
      "cell_type": "code",
      "source": [
        "# Spliting the X and Y into Train and test \n",
        "X_train,X_test,y_train,y_test = train_test_split(X,y,random_state = 2,test_size= 0.3)"
      ],
      "metadata": {
        "id": "4INie-vZ8-3S"
      },
      "execution_count": 13,
      "outputs": []
    },
    {
      "cell_type": "code",
      "source": [
        "# Shape of the Dataset\n",
        "X_train.shape,X_test.shape,y_train.shape,y_test.shape"
      ],
      "metadata": {
        "colab": {
          "base_uri": "https://localhost:8080/"
        },
        "id": "_6T5dNhF9KS2",
        "outputId": "e1244979-42ae-4596-96e1-4269068e634a"
      },
      "execution_count": 14,
      "outputs": [
        {
          "output_type": "execute_result",
          "data": {
            "text/plain": [
              "((3972, 3), (1703, 3), (3972,), (1703,))"
            ]
          },
          "metadata": {},
          "execution_count": 14
        }
      ]
    },
    {
      "cell_type": "code",
      "source": [
        "# Using Logistic Regresssion model for Evaluation\n",
        "model = LogisticRegression()\n",
        "model.fit(X,y)"
      ],
      "metadata": {
        "colab": {
          "base_uri": "https://localhost:8080/"
        },
        "id": "Zq1O4GA78wTz",
        "outputId": "0d0d22e0-803b-4efe-ab60-45f377722971"
      },
      "execution_count": 15,
      "outputs": [
        {
          "output_type": "stream",
          "name": "stderr",
          "text": [
            "/usr/local/lib/python3.7/dist-packages/sklearn/linear_model/_logistic.py:818: ConvergenceWarning: lbfgs failed to converge (status=1):\n",
            "STOP: TOTAL NO. of ITERATIONS REACHED LIMIT.\n",
            "\n",
            "Increase the number of iterations (max_iter) or scale the data as shown in:\n",
            "    https://scikit-learn.org/stable/modules/preprocessing.html\n",
            "Please also refer to the documentation for alternative solver options:\n",
            "    https://scikit-learn.org/stable/modules/linear_model.html#logistic-regression\n",
            "  extra_warning_msg=_LOGISTIC_SOLVER_CONVERGENCE_MSG,\n"
          ]
        },
        {
          "output_type": "execute_result",
          "data": {
            "text/plain": [
              "LogisticRegression()"
            ]
          },
          "metadata": {},
          "execution_count": 15
        }
      ]
    },
    {
      "cell_type": "code",
      "source": [
        "pred = model.predict(X_test)\n",
        "print(accuracy_score(pred,y_test))\n",
        "print(classification_report(pred,y_test))\n",
        "print(confusion_matrix(pred,y_test))"
      ],
      "metadata": {
        "colab": {
          "base_uri": "https://localhost:8080/"
        },
        "id": "3uvoWq9V8-Vg",
        "outputId": "58dfd44b-1a83-427e-b35d-d8fe4df62461"
      },
      "execution_count": 16,
      "outputs": [
        {
          "output_type": "stream",
          "name": "stdout",
          "text": [
            "0.6594245449207281\n",
            "              precision    recall  f1-score   support\n",
            "\n",
            "           1       0.59      0.82      0.69       137\n",
            "           2       0.00      0.00      0.00         0\n",
            "           3       0.13      0.28      0.17       115\n",
            "           4       0.62      0.66      0.64       280\n",
            "           5       0.88      0.68      0.77      1138\n",
            "           7       0.44      0.52      0.47        33\n",
            "\n",
            "    accuracy                           0.66      1703\n",
            "   macro avg       0.44      0.49      0.46      1703\n",
            "weighted avg       0.76      0.66      0.70      1703\n",
            "\n",
            "[[113   0   2   0  22   0]\n",
            " [  0   0   0   0   0   0]\n",
            " [  1   0  32  43  39   0]\n",
            " [  1   0  70 185  24   0]\n",
            " [ 75  44 150  71 776  22]\n",
            " [  0   0   0   0  16  17]]\n"
          ]
        },
        {
          "output_type": "stream",
          "name": "stderr",
          "text": [
            "/usr/local/lib/python3.7/dist-packages/sklearn/metrics/_classification.py:1318: UndefinedMetricWarning: Recall and F-score are ill-defined and being set to 0.0 in labels with no true samples. Use `zero_division` parameter to control this behavior.\n",
            "  _warn_prf(average, modifier, msg_start, len(result))\n",
            "/usr/local/lib/python3.7/dist-packages/sklearn/metrics/_classification.py:1318: UndefinedMetricWarning: Recall and F-score are ill-defined and being set to 0.0 in labels with no true samples. Use `zero_division` parameter to control this behavior.\n",
            "  _warn_prf(average, modifier, msg_start, len(result))\n",
            "/usr/local/lib/python3.7/dist-packages/sklearn/metrics/_classification.py:1318: UndefinedMetricWarning: Recall and F-score are ill-defined and being set to 0.0 in labels with no true samples. Use `zero_division` parameter to control this behavior.\n",
            "  _warn_prf(average, modifier, msg_start, len(result))\n"
          ]
        }
      ]
    },
    {
      "cell_type": "markdown",
      "source": [
        "Cross_validation for Logisitic Regression"
      ],
      "metadata": {
        "id": "xCUyDi_mBFO8"
      }
    },
    {
      "cell_type": "code",
      "source": [
        "kf=KFold(n_splits=5)\n",
        "score=cross_val_score(model,X,y,cv=3)\n",
        "print(\"Cross Validation Scores are {}:\".format(score))\n",
        "print(\"Average Cross Validation score :{}\".format(score.mean()))"
      ],
      "metadata": {
        "colab": {
          "base_uri": "https://localhost:8080/"
        },
        "id": "d5sC2i9P-8nm",
        "outputId": "b0ed38ac-5831-4835-e9d3-286535228d6e"
      },
      "execution_count": 44,
      "outputs": [
        {
          "output_type": "stream",
          "name": "stderr",
          "text": [
            "/usr/local/lib/python3.7/dist-packages/sklearn/linear_model/_logistic.py:818: ConvergenceWarning: lbfgs failed to converge (status=1):\n",
            "STOP: TOTAL NO. of ITERATIONS REACHED LIMIT.\n",
            "\n",
            "Increase the number of iterations (max_iter) or scale the data as shown in:\n",
            "    https://scikit-learn.org/stable/modules/preprocessing.html\n",
            "Please also refer to the documentation for alternative solver options:\n",
            "    https://scikit-learn.org/stable/modules/linear_model.html#logistic-regression\n",
            "  extra_warning_msg=_LOGISTIC_SOLVER_CONVERGENCE_MSG,\n",
            "/usr/local/lib/python3.7/dist-packages/sklearn/linear_model/_logistic.py:818: ConvergenceWarning: lbfgs failed to converge (status=1):\n",
            "STOP: TOTAL NO. of ITERATIONS REACHED LIMIT.\n",
            "\n",
            "Increase the number of iterations (max_iter) or scale the data as shown in:\n",
            "    https://scikit-learn.org/stable/modules/preprocessing.html\n",
            "Please also refer to the documentation for alternative solver options:\n",
            "    https://scikit-learn.org/stable/modules/linear_model.html#logistic-regression\n",
            "  extra_warning_msg=_LOGISTIC_SOLVER_CONVERGENCE_MSG,\n"
          ]
        },
        {
          "output_type": "stream",
          "name": "stdout",
          "text": [
            "Cross Validation Scores are [0.65697674 0.65063425 0.65732417]:\n",
            "Average Cross Validation score :0.6549783869216186\n"
          ]
        },
        {
          "output_type": "stream",
          "name": "stderr",
          "text": [
            "/usr/local/lib/python3.7/dist-packages/sklearn/linear_model/_logistic.py:818: ConvergenceWarning: lbfgs failed to converge (status=1):\n",
            "STOP: TOTAL NO. of ITERATIONS REACHED LIMIT.\n",
            "\n",
            "Increase the number of iterations (max_iter) or scale the data as shown in:\n",
            "    https://scikit-learn.org/stable/modules/preprocessing.html\n",
            "Please also refer to the documentation for alternative solver options:\n",
            "    https://scikit-learn.org/stable/modules/linear_model.html#logistic-regression\n",
            "  extra_warning_msg=_LOGISTIC_SOLVER_CONVERGENCE_MSG,\n"
          ]
        }
      ]
    },
    {
      "cell_type": "code",
      "source": [
        "sns.scatterplot(pred,y_test)"
      ],
      "metadata": {
        "colab": {
          "base_uri": "https://localhost:8080/",
          "height": 339
        },
        "id": "ATJewaYDC0i7",
        "outputId": "a51e93da-e100-4bb9-ba69-d8b1aebb5488"
      },
      "execution_count": 17,
      "outputs": [
        {
          "output_type": "stream",
          "name": "stderr",
          "text": [
            "/usr/local/lib/python3.7/dist-packages/seaborn/_decorators.py:43: FutureWarning: Pass the following variables as keyword args: x, y. From version 0.12, the only valid positional argument will be `data`, and passing other arguments without an explicit keyword will result in an error or misinterpretation.\n",
            "  FutureWarning\n"
          ]
        },
        {
          "output_type": "execute_result",
          "data": {
            "text/plain": [
              "<matplotlib.axes._subplots.AxesSubplot at 0x7f5e02abc190>"
            ]
          },
          "metadata": {},
          "execution_count": 17
        },
        {
          "output_type": "display_data",
          "data": {
            "text/plain": [
              "<Figure size 432x288 with 1 Axes>"
            ],
            "image/png": "[encoded data removed]"
          },
          "metadata": {
            "needs_background": "light"
          }
        }
      ]
    },
    {
      "cell_type": "code",
      "source": [
        "#Using KNNClassifier with one Hyperparameter\n",
        "kn = KNeighborsClassifier(n_neighbors=3)\n",
        "kn.fit(X,y)\n",
        "predict = kn.predict(X_test)\n",
        "print(accuracy_score(predict,y_test))\n",
        "print(classification_report(predict,y_test))\n",
        "print(confusion_matrix(predict,y_test))"
      ],
      "metadata": {
        "colab": {
          "base_uri": "https://localhost:8080/"
        },
        "id": "ffUx4LDRABBy",
        "outputId": "d2ba4d5b-ca38-49ba-95cb-3210fbd29046"
      },
      "execution_count": 36,
      "outputs": [
        {
          "output_type": "stream",
          "name": "stdout",
          "text": [
            "0.9365825014679976\n",
            "              precision    recall  f1-score   support\n",
            "\n",
            "           1       0.90      0.90      0.90       191\n",
            "           2       0.93      0.93      0.93        44\n",
            "           3       0.95      0.92      0.93       263\n",
            "           4       0.92      0.91      0.92       303\n",
            "           5       0.94      0.97      0.95       858\n",
            "           7       0.97      0.86      0.92        44\n",
            "\n",
            "    accuracy                           0.94      1703\n",
            "   macro avg       0.94      0.91      0.92      1703\n",
            "weighted avg       0.94      0.94      0.94      1703\n",
            "\n",
            "[[171   0   1   0  18   1]\n",
            " [  0  41   2   0   1   0]\n",
            " [  1   1 241  13   7   0]\n",
            " [  0   0  10 276  17   0]\n",
            " [ 18   2   0  10 828   0]\n",
            " [  0   0   0   0   6  38]]\n"
          ]
        }
      ]
    },
    {
      "cell_type": "code",
      "source": [
        "score=cross_val_score(neigh,X,y,cv=3)\n",
        "print(\"Cross Validation Scores are {}\".format(score))\n",
        "print(\"Average Cross Validation score :{}\".format(score.mean()))"
      ],
      "metadata": {
        "colab": {
          "base_uri": "https://localhost:8080/"
        },
        "id": "onRVxlj4CsZU",
        "outputId": "4aa422ca-e2f8-4c47-b44e-f6419a224650"
      },
      "execution_count": 46,
      "outputs": [
        {
          "output_type": "stream",
          "name": "stdout",
          "text": [
            "Cross Validation Scores are [0.80232558 0.68181818 0.77472237]\n",
            "Average Cross Validation score :0.7529553774434667\n"
          ]
        }
      ]
    },
    {
      "cell_type": "code",
      "source": [
        "#Using KNNClassifier Model using Hyperparameters\n",
        "neigh = KNeighborsClassifier(n_neighbors=3,weights= \"uniform\",metric=\"minkowski\")\n",
        "neigh.fit(X,y)"
      ],
      "metadata": {
        "colab": {
          "base_uri": "https://localhost:8080/"
        },
        "id": "e-Hiqb-w9wfi",
        "outputId": "ff70b6a8-bf96-4858-99a4-257b177e6e9e"
      },
      "execution_count": 47,
      "outputs": [
        {
          "output_type": "execute_result",
          "data": {
            "text/plain": [
              "KNeighborsClassifier(n_neighbors=3)"
            ]
          },
          "metadata": {},
          "execution_count": 47
        }
      ]
    },
    {
      "cell_type": "code",
      "source": [
        "prediction = neigh.predict(X_test)\n",
        "print(accuracy_score(prediction,y_test))\n",
        "print(classification_report(prediction,y_test))\n",
        "print(confusion_matrix(prediction,y_test))"
      ],
      "metadata": {
        "colab": {
          "base_uri": "https://localhost:8080/"
        },
        "id": "zzpyfRCv-Cqj",
        "outputId": "dc3b1d31-3599-4d47-93ef-cfd7e48f00d4"
      },
      "execution_count": 38,
      "outputs": [
        {
          "output_type": "stream",
          "name": "stdout",
          "text": [
            "0.9365825014679976\n",
            "              precision    recall  f1-score   support\n",
            "\n",
            "           1       0.90      0.90      0.90       191\n",
            "           2       0.93      0.93      0.93        44\n",
            "           3       0.95      0.92      0.93       263\n",
            "           4       0.92      0.91      0.92       303\n",
            "           5       0.94      0.97      0.95       858\n",
            "           7       0.97      0.86      0.92        44\n",
            "\n",
            "    accuracy                           0.94      1703\n",
            "   macro avg       0.94      0.91      0.92      1703\n",
            "weighted avg       0.94      0.94      0.94      1703\n",
            "\n",
            "[[171   0   1   0  18   1]\n",
            " [  0  41   2   0   1   0]\n",
            " [  1   1 241  13   7   0]\n",
            " [  0   0  10 276  17   0]\n",
            " [ 18   2   0  10 828   0]\n",
            " [  0   0   0   0   6  38]]\n"
          ]
        }
      ]
    },
    {
      "cell_type": "code",
      "source": [
        "sns.scatterplot(prediction,y_test)"
      ],
      "metadata": {
        "colab": {
          "base_uri": "https://localhost:8080/",
          "height": 339
        },
        "id": "T2HmyX1mDkpW",
        "outputId": "92140ac2-bffa-49c3-8970-b453f3a23bbe"
      },
      "execution_count": 40,
      "outputs": [
        {
          "output_type": "stream",
          "name": "stderr",
          "text": [
            "/usr/local/lib/python3.7/dist-packages/seaborn/_decorators.py:43: FutureWarning: Pass the following variables as keyword args: x, y. From version 0.12, the only valid positional argument will be `data`, and passing other arguments without an explicit keyword will result in an error or misinterpretation.\n",
            "  FutureWarning\n"
          ]
        },
        {
          "output_type": "execute_result",
          "data": {
            "text/plain": [
              "<matplotlib.axes._subplots.AxesSubplot at 0x7f5e02901f50>"
            ]
          },
          "metadata": {},
          "execution_count": 40
        },
        {
          "output_type": "display_data",
          "data": {
            "text/plain": [
              "<Figure size 432x288 with 1 Axes>"
            ],
            "image/png": "[encoded data removed]"
          },
          "metadata": {
            "needs_background": "light"
          }
        }
      ]
    }
  ]
}